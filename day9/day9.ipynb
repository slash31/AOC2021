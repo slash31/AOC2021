{
 "cells": [
  {
   "cell_type": "code",
   "execution_count": 37,
   "metadata": {},
   "outputs": [
    {
     "name": "stdout",
     "output_type": "stream",
     "text": [
      "// warning: expression returns 2 values, using only the first one: [int error]\n"
     ]
    }
   ],
   "source": [
    "import (\n",
    "    \"fmt\"\n",
    "    \"bufio\"\n",
    "    \"strings\"\n",
    "    \"strconv\"\n",
    "    \"os\"\n",
    "    \"sort\"\n",
    ")\n",
    "\n",
    "type Position struct {\n",
    "    row int\n",
    "    col int\n",
    "}\n",
    "\n",
    "\n",
    "func loadData() [][]int {\n",
    "    f, err := os.Open(\"input_data\")\n",
    "    data := []string{}\n",
    "    input := bufio.NewReader(f)\n",
    "    scanner := bufio.NewScanner(input)\n",
    "    allLines := [][]int{}\n",
    "    for scanner.Scan() {\n",
    "        t := []int{}\n",
    "        for i,v := range strings.Split(scanner.Text(),\"\") {\n",
    "            t = append(t,strconv.Atoi(v))\n",
    "        }\n",
    "        allLines = append(allLines,t)\n",
    "    }\n",
    "    return allLines\n",
    "}\n",
    "\n",
    "floorGrid := loadData()"
   ]
  },
  {
   "cell_type": "code",
   "execution_count": 38,
   "metadata": {},
   "outputs": [
    {
     "name": "stdout",
     "output_type": "stream",
     "text": [
      "417\n"
     ]
    },
    {
     "data": {
      "text/plain": [
       "4 <nil>"
      ]
     },
     "execution_count": 38,
     "metadata": {},
     "output_type": "execute_result"
    }
   ],
   "source": [
    "// Part 1\n",
    "func isLowest(pos Position, floorGrid [][]int) bool {\n",
    "    \n",
    "    testVal := floorGrid[pos.row][pos.col]\n",
    "    if pos.col > 0 {\n",
    "        if floorGrid[pos.row][pos.col-1] <= testVal {\n",
    "            return false\n",
    "        }\n",
    "    }\n",
    "    if pos.col < len(floorGrid[0]) - 1 {\n",
    "        if floorGrid[pos.row][pos.col+1] <= testVal {\n",
    "            return false\n",
    "        }\n",
    "    }\n",
    "    if pos.row > 0 {\n",
    "        if floorGrid[pos.row-1][pos.col] <= testVal {\n",
    "            return false\n",
    "        }\n",
    "    }\n",
    "    if pos.row < len(floorGrid) - 1 {\n",
    "        if floorGrid[pos.row+1][pos.col] <= testVal {\n",
    "            return false\n",
    "        }\n",
    "    }\n",
    "    return true\n",
    "}\n",
    "\n",
    "lowPoints := []Position{}\n",
    "for i := 0; i < len(floorGrid); i++ {\n",
    "    for j := 0; j < len(floorGrid[0]); j++ {\n",
    "        checkPos := Position{row:i,col:j}\n",
    "        if isLowest(checkPos,floorGrid) {\n",
    "            lowPoints = append(lowPoints,checkPos)\n",
    "        }\n",
    "    }\n",
    "}\n",
    "\n",
    "riskSum := 0\n",
    "for i,v := range lowPoints {\n",
    "    riskSum += 1 + floorGrid[v.row][v.col]\n",
    "}\n",
    "fmt.Println(riskSum)"
   ]
  },
  {
   "cell_type": "code",
   "execution_count": 39,
   "metadata": {},
   "outputs": [],
   "source": [
    "// Part 2\n",
    "func getBasinSize(pos Position, floorGrid [][]int, basinSize int) int {\n",
    "\n",
    "    if pos.row < 0 || pos.col < 0 ||  pos.row == len(floorGrid) || pos.col == len(floorGrid[0]) || floorGrid[pos.row][pos.col] == 9 || floorGrid[pos.row][pos.col] == -1 {\n",
    "        return basinSize\n",
    "    }\n",
    "    floorGrid[pos.row][pos.col] = -1\n",
    "    basinSize++\n",
    "    basinSize = getBasinSize(Position{pos.row-1,pos.col}, floorGrid, basinSize)\n",
    "    basinSize = getBasinSize(Position{pos.row+1,pos.col}, floorGrid, basinSize)\n",
    "    basinSize = getBasinSize(Position{pos.row,pos.col-1}, floorGrid, basinSize)\n",
    "    basinSize = getBasinSize(Position{pos.row,pos.col+1}, floorGrid, basinSize)\n",
    "    return basinSize\n",
    "    \n",
    "}\n",
    "                                                                                                                                  "
   ]
  },
  {
   "cell_type": "code",
   "execution_count": 40,
   "metadata": {},
   "outputs": [
    {
     "name": "stdout",
     "output_type": "stream",
     "text": [
      "1148965\n"
     ]
    },
    {
     "data": {
      "text/plain": [
       "8 <nil>"
      ]
     },
     "execution_count": 40,
     "metadata": {},
     "output_type": "execute_result"
    }
   ],
   "source": [
    "bSz := []int{}\n",
    "for i,v := range lowPoints {\n",
    "    bSz = append(bSz,getBasinSize(v,floorGrid,0)) \n",
    "}\n",
    "sort.Ints(bSz)\n",
    "fmt.Println(bSz[len(bSz)-3]*bSz[len(bSz)-2]*bSz[len(bSz)-1])"
   ]
  }
 ],
 "metadata": {
  "kernelspec": {
   "display_name": "Go",
   "language": "go",
   "name": "gophernotes"
  },
  "language_info": {
   "codemirror_mode": "",
   "file_extension": ".go",
   "mimetype": "",
   "name": "go",
   "nbconvert_exporter": "",
   "pygments_lexer": "",
   "version": "go1.16.5"
  }
 },
 "nbformat": 4,
 "nbformat_minor": 2
}
