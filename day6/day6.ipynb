{
 "cells": [
  {
   "cell_type": "code",
   "execution_count": 1,
   "metadata": {},
   "outputs": [],
   "source": [
    "import (\n",
    "    \"fmt\"\n",
    "    \"bufio\"\n",
    "    \"io/ioutil\"\n",
    "    \"strings\"\n",
    "    \"os\"\n",
    "    \"strconv\"\n",
    ")"
   ]
  },
  {
   "cell_type": "code",
   "execution_count": 2,
   "metadata": {},
   "outputs": [],
   "source": [
    "func loadData() []int {\n",
    "    f, err := ioutil.ReadFile(\"input_data\")\n",
    "    rawData := strings.Split(string(f),\",\")\n",
    "    input := []int{}\n",
    "    for i,sVal := range rawData {\n",
    "        iVal, err := strconv.Atoi(strings.TrimSuffix(sVal,\"\\n\"))\n",
    "        input = append(input,iVal)\n",
    "    }\n",
    "    return input\n",
    "}"
   ]
  },
  {
   "cell_type": "code",
   "execution_count": 3,
   "metadata": {},
   "outputs": [
    {
     "name": "stdout",
     "output_type": "stream",
     "text": [
      "Total fish: 380243\n"
     ]
    }
   ],
   "source": [
    "// Part 1\n",
    "func part1(days int) {\n",
    "    lanternFish := loadData()\n",
    "    var newFish int\n",
    "    for d := 1; d <= days; d++ {\n",
    "        newFish = 0\n",
    "        for i,v := range lanternFish {\n",
    "            if v == 0 {\n",
    "                newFish++\n",
    "                lanternFish[i] = 6\n",
    "            } else {\n",
    "                lanternFish[i] = lanternFish[i] - 1\n",
    "            }\n",
    "        }\n",
    "        for i := 0; i < newFish; i++ {\n",
    "            lanternFish = append(lanternFish,8)\n",
    "        }\n",
    "    }\n",
    "    fmt.Println(\"Total fish:\",len(lanternFish))\n",
    "}\n",
    "part1(80)"
   ]
  },
  {
   "cell_type": "code",
   "execution_count": 4,
   "metadata": {},
   "outputs": [
    {
     "name": "stdout",
     "output_type": "stream",
     "text": [
      "Total fish: 1708791884591\n"
     ]
    }
   ],
   "source": [
    "// Part 2 - because brute forcing a list isn't efficient ;)\n",
    "func part2(days int) {\n",
    "    lanternFish := make(map[int]int64)\n",
    "    rawFish := loadData()\n",
    "    for i,v := range rawFish {\n",
    "        lanternFish[v]++\n",
    "    }\n",
    "    for d := 1; d <= days; d++ {\n",
    "        newFish := lanternFish[0]\n",
    "        for i := 0; i < 8; i++ {\n",
    "            lanternFish[i] = lanternFish[i+1]\n",
    "        }\n",
    "        lanternFish[8] = newFish\n",
    "        lanternFish[6] += newFish\n",
    "    }\n",
    "    totalFish := int64(0)\n",
    "    for i := 0; i <= 8; i++ {\n",
    "        totalFish += lanternFish[i]\n",
    "    }\n",
    "    fmt.Println(\"Total fish:\",totalFish)\n",
    "}\n",
    "part2(256)"
   ]
  },
  {
   "cell_type": "code",
   "execution_count": null,
   "metadata": {},
   "outputs": [],
   "source": []
  }
 ],
 "metadata": {
  "kernelspec": {
   "display_name": "Go",
   "language": "go",
   "name": "gophernotes"
  },
  "language_info": {
   "codemirror_mode": "",
   "file_extension": ".go",
   "mimetype": "",
   "name": "go",
   "nbconvert_exporter": "",
   "pygments_lexer": "",
   "version": "go1.11.4"
  }
 },
 "nbformat": 4,
 "nbformat_minor": 2
}
