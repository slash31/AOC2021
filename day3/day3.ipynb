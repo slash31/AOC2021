{
 "cells": [
  {
   "cell_type": "code",
   "execution_count": 1,
   "metadata": {},
   "outputs": [],
   "source": [
    "import (\n",
    "    \"fmt\"\n",
    "    \"strconv\"\n",
    "    \"strings\"\n",
    "    \"bufio\"\n",
    "    \"math\"\n",
    "    \"io/ioutil\"\n",
    ")"
   ]
  },
  {
   "cell_type": "code",
   "execution_count": 2,
   "metadata": {},
   "outputs": [],
   "source": [
    "input, _ := ioutil.ReadFile(\"./day3/input_data\")"
   ]
  },
  {
   "cell_type": "code",
   "execution_count": 3,
   "metadata": {},
   "outputs": [
    {
     "name": "stdout",
     "output_type": "stream",
     "text": [
      "4103154\n"
     ]
    },
    {
     "data": {
      "text/plain": [
       "8 <nil>"
      ]
     },
     "execution_count": 3,
     "metadata": {},
     "output_type": "execute_result"
    }
   ],
   "source": [
    "// Part 1\n",
    "scanner := bufio.NewScanner(strings.NewReader(string(input)))\n",
    "location := map[int]int{0:0, 1:0, 2:0, 3:0, 4:0, 5:0, 6:0, 7:0, 8:0, 9:0, 10:0, 11:0}\n",
    "num_items := 0\n",
    "for scanner.Scan() {\n",
    "    num_items += 1\n",
    "    bits := []rune(scanner.Text())\n",
    "    for i := 0; i < len(bits); i++ {\n",
    "        if bits[i] == 49 {\n",
    "            location[(len(bits)-1) - i] += 1\n",
    "        }\n",
    "    }\n",
    "}\n",
    "\n",
    "gamma := 0\n",
    "epsilon := 0\n",
    "for i := 0; i < len(location); i++ {\n",
    "    if num_items / location[i] >= 2 {\n",
    "        gamma += 1 << uint16(i)\n",
    "    } else {\n",
    "        epsilon += 1 << uint16(i)\n",
    "    }\n",
    "}\n",
    "fmt.Println(gamma*epsilon)"
   ]
  },
  {
   "cell_type": "code",
   "execution_count": 6,
   "metadata": {},
   "outputs": [
    {
     "name": "stdout",
     "output_type": "stream",
     "text": [
      "4245351\n"
     ]
    },
    {
     "data": {
      "text/plain": [
       "8 <nil>"
      ]
     },
     "execution_count": 6,
     "metadata": {},
     "output_type": "execute_result"
    }
   ],
   "source": [
    "// Part 2\n",
    "func filter(values []string, pos int, metric string) int64 {\n",
    "    fvalues := []string{}\n",
    "    if len(values) == 1 {\n",
    "        rating, _ := strconv.ParseInt(values[0], 2, 64)\n",
    "        return rating\n",
    "    }\n",
    "\n",
    "    freq := 0\n",
    "    for i := 0; i < len(values); i++ {\n",
    "        // count each entry with pos bit set to 1\n",
    "        if values[i][pos] == 49 {\n",
    "            freq += 1\n",
    "        }\n",
    "    }\n",
    "    comparator := 48\n",
    "    if float64(len(values)) / float64(freq) <= 2 {\n",
    "        comparator = 49\n",
    "    }\n",
    "    if metric == \"co2\" {\n",
    "        if comparator == 48 {\n",
    "            comparator = 49\n",
    "        } else {\n",
    "            comparator = 48\n",
    "        }\n",
    "    }\n",
    "    \n",
    "    for i := 0; i < len(values); i++ {\n",
    "        if  values[i][pos] == uint8(comparator) {\n",
    "            fvalues  = append(fvalues, values[i])\n",
    "        }\n",
    "    }\n",
    "    return filter(fvalues, pos + 1, metric)\n",
    "}\n",
    "\n",
    "//scanner := bufio.NewScanner(strings.NewReader(input))\n",
    "values := strings.Fields(string(input))\n",
    "//scanner := bufio.NewScanner(strings.NewReader(input))\n",
    "//for scanner.Scan() {\n",
    "//    values = append(values, scanner.Text())\n",
    "//}\n",
    "\n",
    "fmt.Println(filter(values,0,\"oxygen\")*filter(values,0,\"co2\"))"
   ]
  }
 ],
 "metadata": {
  "kernelspec": {
   "display_name": "Go",
   "language": "go",
   "name": "gophernotes"
  },
  "language_info": {
   "codemirror_mode": "",
   "file_extension": ".go",
   "mimetype": "",
   "name": "go",
   "nbconvert_exporter": "",
   "pygments_lexer": "",
   "version": "go1.11.4"
  }
 },
 "nbformat": 4,
 "nbformat_minor": 2
}
