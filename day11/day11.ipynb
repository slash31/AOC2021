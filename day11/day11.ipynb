{
 "cells": [
  {
   "cell_type": "code",
   "execution_count": 1,
   "metadata": {},
   "outputs": [],
   "source": [
    "import (\n",
    "    \"fmt\"\n",
    "    \"bufio\"\n",
    "    \"strings\"\n",
    "    \"strconv\"\n",
    "    \"os\"\n",
    "    \"sort\"\n",
    ")\n",
    "\n",
    "var flashes []Position\n",
    "\n",
    "type Position struct {\n",
    "    row int\n",
    "    col int\n",
    "}\n",
    "\n",
    "func loadData() map[Position]int {\n",
    "    f, err := os.Open(\"input_data\")\n",
    "    data := []string{}\n",
    "    input := bufio.NewReader(f)\n",
    "    scanner := bufio.NewScanner(input)\n",
    "    i := 0\n",
    "    mapData := map[Position]int{}\n",
    "    for scanner.Scan() {\n",
    "        for j,v := range strings.Split(scanner.Text(),\"\") {\n",
    "            val,_ := strconv.Atoi(v)\n",
    "            mapData[Position{i,j}] = val\n",
    "        }\n",
    "        i++\n",
    "    }\n",
    "    return mapData\n",
    "}"
   ]
  },
  {
   "cell_type": "code",
   "execution_count": 2,
   "metadata": {},
   "outputs": [],
   "source": [
    "func flashed(octopus Position) bool {\n",
    "    for i, v := range flashes{\n",
    "        if v == octopus {\n",
    "            return true\n",
    "        }\n",
    "    }\n",
    "    return false\n",
    "}\n",
    "\n",
    "func displayGrid(octoGrid map[Position]int) {\n",
    "    display := [10][10]int{}\n",
    "    for i,v:=range octoGrid {\n",
    "        display[i.row][i.col]=v\n",
    "    }\n",
    "    for i,v:=range display {\n",
    "        fmt.Println(v)\n",
    "    }\n",
    "    fmt.Println(\"\")\n",
    "\n",
    "}\n",
    "\n",
    "func incr(octoGrid map[Position]int, octopus Position) {\n",
    "    if _, ex := octoGrid[octopus]; ex {\n",
    "        octoGrid[octopus] += 1\n",
    "    }\n",
    "    \n",
    "    return\n",
    "}"
   ]
  },
  {
   "cell_type": "code",
   "execution_count": 3,
   "metadata": {},
   "outputs": [],
   "source": [
    "func flash(octoGrid map[Position]int, octopus Position) {\n",
    "    if _, ex := octoGrid[octopus]; !ex || flashed(octopus) {\n",
    "        return\n",
    "    }\n",
    "    \n",
    "    flashes = append(flashes,octopus)\n",
    "    \n",
    "    incr(octoGrid, Position{octopus.row-1,octopus.col})\n",
    "    if octoGrid[Position{octopus.row-1,octopus.col}] > 9 {\n",
    "        flash(octoGrid,Position{octopus.row-1,octopus.col})\n",
    "    }\n",
    "    incr(octoGrid, Position{octopus.row+1,octopus.col})\n",
    "    if octoGrid[Position{octopus.row+1,octopus.col}] > 9 {\n",
    "        flash(octoGrid,Position{octopus.row+1,octopus.col})\n",
    "    }\n",
    "    incr(octoGrid, Position{octopus.row,octopus.col-1})\n",
    "    if octoGrid[Position{octopus.row,octopus.col-1}] > 9 {\n",
    "        flash(octoGrid,Position{octopus.row,octopus.col-1})\n",
    "    }\n",
    "    incr(octoGrid, Position{octopus.row-1,octopus.col-1})\n",
    "    if octoGrid[Position{octopus.row-1,octopus.col-1}] > 9 {\n",
    "        flash(octoGrid,Position{octopus.row-1,octopus.col-1})\n",
    "    }\n",
    "    incr(octoGrid, Position{octopus.row+1,octopus.col-1})\n",
    "    if octoGrid[Position{octopus.row+1,octopus.col-1}] > 9 {\n",
    "        flash(octoGrid,Position{octopus.row+1,octopus.col-1})\n",
    "    }\n",
    "    incr(octoGrid, Position{octopus.row, octopus.col+1})\n",
    "    if octoGrid[Position{octopus.row, octopus.col+1}] > 9 {\n",
    "        flash(octoGrid,Position{octopus.row, octopus.col+1})\n",
    "    }\n",
    "    incr(octoGrid, Position{octopus.row-1,octopus.col+1})\n",
    "    if octoGrid[Position{octopus.row-1,octopus.col+1}] > 9 {\n",
    "        flash(octoGrid,Position{octopus.row-1,octopus.col+1})\n",
    "    }\n",
    "    incr(octoGrid, Position{octopus.row+1,octopus.col+1})\n",
    "    if octoGrid[Position{octopus.row+1,octopus.col+1}] > 9 {\n",
    "        flash(octoGrid,Position{octopus.row+1,octopus.col+1})\n",
    "    }\n",
    "    return\n",
    "}"
   ]
  },
  {
   "cell_type": "code",
   "execution_count": 4,
   "metadata": {},
   "outputs": [
    {
     "name": "stdout",
     "output_type": "stream",
     "text": [
      "total: 1603\n"
     ]
    },
    {
     "data": {
      "text/plain": [
       "12 <nil>"
      ]
     },
     "execution_count": 4,
     "metadata": {},
     "output_type": "execute_result"
    }
   ],
   "source": [
    "//Part 1\n",
    "octopi := loadData()\n",
    "total := 0\n",
    "for s := 1; s <=100; s++ {\n",
    "    flashes = []Position{}\n",
    "    for i, v := range octopi {\n",
    "        octopi[i] += 1\n",
    "    }\n",
    "    for i, v := range octopi {\n",
    "        if octopi[i] > 9 {\n",
    "            flash(octopi,i)\n",
    "        }\n",
    "    }\n",
    "    for i,v := range flashes {\n",
    "        octopi[v] = 0\n",
    "    } \n",
    "    total += len(flashes)\n",
    "}\n",
    "fmt.Println(\"total:\",total)\n"
   ]
  },
  {
   "cell_type": "code",
   "execution_count": 5,
   "metadata": {},
   "outputs": [
    {
     "name": "stdout",
     "output_type": "stream",
     "text": [
      "Excellent synchro at step 222!"
     ]
    }
   ],
   "source": [
    "//Part 2\n",
    "octopi := loadData()\n",
    "for s := 1; s <=1000; s++ {\n",
    "    flashes = []Position{}\n",
    "    for i, v := range octopi {\n",
    "        octopi[i] += 1\n",
    "    }\n",
    "    for i, v := range octopi {\n",
    "        if octopi[i] > 9 {\n",
    "            flash(octopi,i)\n",
    "        }\n",
    "    }\n",
    "    if (len(flashes)) == len(octopi) {\n",
    "        fmt.Printf(\"Excellent synchro at step %v!\",s)\n",
    "        break\n",
    "    }\n",
    "    for i,v := range flashes {\n",
    "        octopi[v] = 0\n",
    "    } \n",
    "}"
   ]
  },
  {
   "cell_type": "code",
   "execution_count": null,
   "metadata": {},
   "outputs": [],
   "source": []
  }
 ],
 "metadata": {
  "kernelspec": {
   "display_name": "Go",
   "language": "go",
   "name": "gophernotes"
  },
  "language_info": {
   "codemirror_mode": "",
   "file_extension": ".go",
   "mimetype": "",
   "name": "go",
   "nbconvert_exporter": "",
   "pygments_lexer": "",
   "version": "go1.16.5"
  }
 },
 "nbformat": 4,
 "nbformat_minor": 2
}
