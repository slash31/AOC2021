{
 "cells": [
  {
   "cell_type": "code",
   "execution_count": 29,
   "metadata": {},
   "outputs": [],
   "source": [
    "import (\n",
    "    \"fmt\"\n",
    "    \"strconv\"\n",
    "    \"strings\"\n",
    "    \"io/ioutil\"\n",
    ")"
   ]
  },
  {
   "cell_type": "code",
   "execution_count": 43,
   "metadata": {},
   "outputs": [
    {
     "name": "stdout",
     "output_type": "stream",
     "text": [
      "8\n"
     ]
    },
    {
     "data": {
      "text/plain": [
       "2 <nil>"
      ]
     },
     "execution_count": 43,
     "metadata": {},
     "output_type": "execute_result"
    }
   ],
   "source": [
    "raw_data, _ := ioutil.ReadFile(\"./day2/input_data\")\n",
    "input := strings.Fields(string(raw_data))\n",
    "fmt.Println(input[1])"
   ]
  },
  {
   "cell_type": "code",
   "execution_count": 50,
   "metadata": {},
   "outputs": [
    {
     "name": "stdout",
     "output_type": "stream",
     "text": [
      "1855814\n"
     ]
    },
    {
     "data": {
      "text/plain": [
       "8 <nil>"
      ]
     },
     "execution_count": 50,
     "metadata": {},
     "output_type": "execute_result"
    }
   ],
   "source": [
    "// Part 1\n",
    "location := map[string]int{\"hpos\": 0, \"depth\": 0}\n",
    "for i := 0; i < len(input); i++ {\n",
    "    command := input[i]\n",
    "    i++\n",
    "    cval, err := strconv.Atoi(input[i])\n",
    "    switch command {\n",
    "    case \"forward\":\n",
    "        location[\"hpos\"] += cval\n",
    "    case \"down\":\n",
    "        location[\"depth\"] += cval\n",
    "    case \"up\":\n",
    "        location[\"depth\"] -= cval\n",
    "    default:\n",
    "        \n",
    "    }\n",
    "}\n",
    "fmt.Println(location[\"hpos\"]*location[\"depth\"])"
   ]
  },
  {
   "cell_type": "code",
   "execution_count": 51,
   "metadata": {},
   "outputs": [
    {
     "name": "stdout",
     "output_type": "stream",
     "text": [
      "1845455714\n"
     ]
    },
    {
     "data": {
      "text/plain": [
       "11 <nil>"
      ]
     },
     "execution_count": 51,
     "metadata": {},
     "output_type": "execute_result"
    }
   ],
   "source": [
    "// Part 2\n",
    "location := map[string]int{\"hpos\": 0, \"depth\": 0, \"aim\": 0}\n",
    "for i := 0; i < len(input); i++ {\n",
    "    command := input[i]\n",
    "    i++\n",
    "    cval, err := strconv.Atoi(input[i])\n",
    "    switch command {\n",
    "    case \"forward\":\n",
    "        location[\"hpos\"] += cval\n",
    "        location[\"depth\"] += location[\"aim\"]*cval\n",
    "    case \"down\":\n",
    "        location[\"aim\"] += cval\n",
    "    case \"up\":\n",
    "        location[\"aim\"] -= cval\n",
    "    default:\n",
    "        \n",
    "    }\n",
    "}\n",
    "fmt.Println(location[\"hpos\"]*location[\"depth\"])"
   ]
  }
 ],
 "metadata": {
  "kernelspec": {
   "display_name": "Go",
   "language": "go",
   "name": "gophernotes"
  },
  "language_info": {
   "codemirror_mode": "",
   "file_extension": ".go",
   "mimetype": "",
   "name": "go",
   "nbconvert_exporter": "",
   "pygments_lexer": "",
   "version": "go1.11.4"
  }
 },
 "nbformat": 4,
 "nbformat_minor": 2
}
