{
 "cells": [
  {
   "cell_type": "markdown",
   "metadata": {},
   "source": [
    "--- Day 2: Dive! ---\n",
    "Now, you need to figure out how to pilot this thing.\n",
    "\n",
    "It seems like the submarine can take a series of commands like forward 1, down 2, or up 3:\n",
    "\n",
    "forward X increases the horizontal position by X units.\n",
    "down X increases the depth by X units.\n",
    "up X decreases the depth by X units.\n",
    "Note that since you're on a submarine, down and up affect your depth, and so they have the opposite result of what you might expect.\n",
    "\n",
    "The submarine seems to already have a planned course (your puzzle input). You should probably figure out where it's going. For example:\n",
    "\n",
    "forward 5\n",
    "down 5\n",
    "forward 8\n",
    "up 3\n",
    "down 8\n",
    "forward 2\n",
    "Your horizontal position and depth both start at 0. The steps above would then modify them as follows:\n",
    "\n",
    "forward 5 adds 5 to your horizontal position, a total of 5.\n",
    "down 5 adds 5 to your depth, resulting in a value of 5.\n",
    "forward 8 adds 8 to your horizontal position, a total of 13.\n",
    "up 3 decreases your depth by 3, resulting in a value of 2.\n",
    "down 8 adds 8 to your depth, resulting in a value of 10.\n",
    "forward 2 adds 2 to your horizontal position, a total of 15.\n",
    "After following these instructions, you would have a horizontal position of 15 and a depth of 10. (Multiplying these together produces 150.)\n",
    "\n",
    "Calculate the horizontal position and depth you would have after following the planned course. What do you get if you multiply your final horizontal position by your final depth?"
   ]
  },
  {
   "cell_type": "code",
   "execution_count": 12,
   "metadata": {},
   "outputs": [],
   "source": [
    "import (\n",
    "    \"fmt\"\n",
    "    \"strconv\"\n",
    "    \"strings\"\n",
    ")"
   ]
  },
  {
   "cell_type": "code",
   "execution_count": 18,
   "metadata": {},
   "outputs": [],
   "source": [
    "input := [1000]string{\"forward 8\",\"forward 3\",\"down 8\",\"down 2\",\"up 1\",\"up 4\",\"down 9\",\"forward 3\",\"forward 4\",\"forward 5\",\"forward 1\",\"forward 1\",\"up 8\",\"forward 2\",\"forward 9\",\"down 2\",\"forward 8\",\"down 5\",\"down 3\",\"down 8\",\"up 1\",\"forward 1\",\"down 8\",\"up 7\",\"down 8\",\"down 9\",\"down 4\",\"down 7\",\"forward 7\",\"forward 9\",\"down 2\",\"down 5\",\"forward 1\",\"down 1\",\"forward 2\",\"up 8\",\"down 8\",\"forward 2\",\"up 5\",\"down 6\",\"down 5\",\"down 2\",\"forward 5\",\"forward 4\",\"forward 6\",\"down 4\",\"up 1\",\"down 8\",\"down 7\",\"down 3\",\"down 4\",\"down 5\",\"forward 7\",\"down 3\",\"down 3\",\"forward 3\",\"down 2\",\"up 8\",\"up 8\",\"forward 2\",\"down 8\",\"down 8\",\"forward 3\",\"forward 9\",\"forward 3\",\"forward 2\",\"down 9\",\"down 3\",\"forward 4\",\"forward 1\",\"down 7\",\"forward 5\",\"up 2\",\"down 6\",\"up 4\",\"down 2\",\"up 5\",\"forward 6\",\"down 6\",\"down 1\",\"forward 5\",\"forward 4\",\"up 8\",\"up 5\",\"forward 2\",\"down 5\",\"down 4\",\"up 1\",\"forward 9\",\"up 5\",\"up 5\",\"forward 3\",\"down 6\",\"forward 7\",\"down 2\",\"forward 1\",\"forward 4\",\"forward 4\",\"down 2\",\"down 6\",\"down 3\",\"down 1\",\"forward 1\",\"down 8\",\"forward 2\",\"down 1\",\"down 2\",\"forward 6\",\"forward 1\",\"forward 7\",\"forward 2\",\"down 2\",\"up 6\",\"up 2\",\"forward 7\",\"down 6\",\"down 1\",\"forward 5\",\"forward 3\",\"forward 1\",\"down 3\",\"up 1\",\"forward 3\",\"forward 1\",\"down 2\",\"down 5\",\"up 8\",\"down 8\",\"forward 3\",\"down 9\",\"forward 8\",\"down 8\",\"down 5\",\"forward 2\",\"up 1\",\"down 3\",\"up 3\",\"down 5\",\"down 7\",\"down 8\",\"down 8\",\"down 1\",\"forward 9\",\"up 4\",\"up 4\",\"down 5\",\"forward 6\",\"forward 1\",\"up 6\",\"forward 5\",\"up 6\",\"forward 1\",\"forward 9\",\"down 3\",\"down 8\",\"forward 6\",\"forward 6\",\"up 1\",\"down 6\",\"forward 2\",\"down 7\",\"down 2\",\"forward 4\",\"up 4\",\"up 2\",\"forward 8\",\"up 6\",\"down 8\",\"up 3\",\"down 5\",\"down 3\",\"forward 3\",\"down 8\",\"up 4\",\"up 5\",\"down 1\",\"down 7\",\"down 7\",\"forward 6\",\"up 6\",\"down 1\",\"forward 7\",\"down 2\",\"up 7\",\"up 3\",\"forward 9\",\"down 3\",\"up 4\",\"up 1\",\"forward 8\",\"down 4\",\"forward 9\",\"forward 8\",\"down 4\",\"down 3\",\"down 1\",\"forward 8\",\"up 7\",\"down 3\",\"up 5\",\"down 3\",\"down 9\",\"down 9\",\"up 9\",\"down 9\",\"up 4\",\"down 5\",\"down 5\",\"forward 8\",\"forward 1\",\"up 3\",\"down 9\",\"down 8\",\"forward 2\",\"forward 1\",\"up 6\",\"down 3\",\"forward 1\",\"up 6\",\"forward 9\",\"forward 3\",\"forward 3\",\"down 2\",\"down 7\",\"forward 1\",\"up 9\",\"up 3\",\"forward 1\",\"forward 2\",\"forward 7\",\"forward 8\",\"forward 2\",\"forward 3\",\"forward 1\",\"forward 7\",\"down 1\",\"up 7\",\"up 3\",\"forward 3\",\"forward 9\",\"down 7\",\"down 3\",\"forward 2\",\"forward 8\",\"up 1\",\"forward 2\",\"forward 3\",\"up 2\",\"down 1\",\"down 9\",\"down 4\",\"up 3\",\"forward 3\",\"down 6\",\"down 1\",\"forward 2\",\"down 8\",\"forward 3\",\"forward 9\",\"forward 1\",\"forward 6\",\"forward 5\",\"down 5\",\"forward 2\",\"up 7\",\"up 7\",\"down 8\",\"forward 9\",\"up 1\",\"up 5\",\"up 8\",\"forward 5\",\"forward 2\",\"down 5\",\"up 5\",\"down 3\",\"forward 6\",\"down 9\",\"down 7\",\"forward 2\",\"forward 8\",\"forward 3\",\"down 7\",\"down 8\",\"forward 9\",\"down 3\",\"down 3\",\"forward 1\",\"forward 4\",\"down 2\",\"forward 1\",\"forward 3\",\"forward 5\",\"down 9\",\"up 3\",\"down 5\",\"forward 8\",\"forward 3\",\"down 5\",\"forward 3\",\"forward 7\",\"down 3\",\"forward 8\",\"down 1\",\"down 3\",\"down 4\",\"down 2\",\"forward 8\",\"down 2\",\"forward 5\",\"down 2\",\"up 2\",\"forward 8\",\"forward 9\",\"forward 3\",\"forward 2\",\"forward 3\",\"down 2\",\"forward 5\",\"down 1\",\"down 9\",\"up 1\",\"down 6\",\"forward 2\",\"up 1\",\"forward 6\",\"down 2\",\"forward 2\",\"forward 1\",\"forward 4\",\"forward 4\",\"forward 9\",\"forward 2\",\"down 5\",\"forward 9\",\"forward 1\",\"forward 7\",\"forward 1\",\"down 7\",\"forward 7\",\"down 4\",\"down 8\",\"down 8\",\"down 1\",\"forward 4\",\"down 5\",\"up 3\",\"down 5\",\"forward 6\",\"down 6\",\"down 4\",\"down 9\",\"down 4\",\"down 5\",\"forward 7\",\"up 4\",\"forward 6\",\"down 9\",\"down 5\",\"down 5\",\"up 2\",\"forward 8\",\"up 5\",\"down 1\",\"down 2\",\"up 6\",\"down 7\",\"forward 7\",\"up 5\",\"forward 4\",\"up 5\",\"down 3\",\"up 7\",\"forward 4\",\"down 4\",\"down 5\",\"down 7\",\"down 3\",\"down 9\",\"up 8\",\"down 9\",\"forward 6\",\"forward 2\",\"forward 2\",\"up 8\",\"up 2\",\"down 4\",\"down 4\",\"up 7\",\"up 9\",\"forward 2\",\"forward 8\",\"forward 4\",\"up 8\",\"forward 8\",\"up 2\",\"down 3\",\"forward 9\",\"down 1\",\"down 7\",\"forward 4\",\"down 2\",\"up 6\",\"up 6\",\"down 9\",\"forward 6\",\"forward 9\",\"down 3\",\"forward 8\",\"up 1\",\"down 5\",\"forward 1\",\"down 6\",\"up 8\",\"forward 2\",\"up 7\",\"forward 5\",\"down 5\",\"up 3\",\"forward 2\",\"forward 1\",\"forward 4\",\"down 6\",\"up 9\",\"forward 9\",\"down 8\",\"forward 2\",\"down 1\",\"down 3\",\"forward 2\",\"forward 9\",\"up 1\",\"forward 9\",\"down 4\",\"forward 2\",\"forward 7\",\"forward 1\",\"up 2\",\"up 2\",\"down 9\",\"forward 3\",\"forward 2\",\"down 6\",\"up 8\",\"down 4\",\"forward 8\",\"up 9\",\"up 6\",\"down 5\",\"up 1\",\"down 9\",\"down 2\",\"down 1\",\"up 8\",\"down 1\",\"forward 3\",\"down 7\",\"down 7\",\"forward 8\",\"down 4\",\"forward 1\",\"forward 4\",\"forward 5\",\"down 8\",\"down 2\",\"down 9\",\"up 5\",\"down 8\",\"down 8\",\"down 3\",\"forward 2\",\"down 5\",\"up 5\",\"down 1\",\"down 2\",\"forward 9\",\"down 7\",\"down 7\",\"down 1\",\"down 6\",\"up 6\",\"up 7\",\"down 1\",\"down 3\",\"down 2\",\"down 5\",\"down 9\",\"down 4\",\"down 5\",\"forward 1\",\"up 7\",\"down 7\",\"forward 6\",\"forward 4\",\"down 3\",\"forward 3\",\"forward 6\",\"forward 7\",\"down 3\",\"forward 1\",\"down 6\",\"down 8\",\"forward 3\",\"up 3\",\"forward 4\",\"forward 3\",\"down 6\",\"up 7\",\"forward 8\",\"forward 4\",\"down 7\",\"down 6\",\"down 8\",\"forward 9\",\"down 6\",\"down 5\",\"up 4\",\"down 6\",\"down 8\",\"down 5\",\"up 4\",\"forward 2\",\"forward 8\",\"forward 9\",\"down 2\",\"forward 5\",\"down 9\",\"down 2\",\"down 7\",\"forward 2\",\"down 2\",\"up 7\",\"down 2\",\"up 5\",\"forward 3\",\"down 8\",\"forward 3\",\"forward 8\",\"up 3\",\"down 6\",\"down 1\",\"forward 2\",\"up 7\",\"down 8\",\"forward 8\",\"down 2\",\"down 3\",\"down 5\",\"forward 4\",\"forward 5\",\"down 2\",\"forward 2\",\"down 5\",\"down 9\",\"forward 4\",\"forward 3\",\"forward 2\",\"down 9\",\"forward 2\",\"forward 9\",\"down 5\",\"down 9\",\"down 6\",\"down 6\",\"down 3\",\"down 1\",\"down 7\",\"forward 7\",\"forward 2\",\"up 9\",\"forward 4\",\"up 7\",\"forward 3\",\"down 2\",\"up 8\",\"up 3\",\"down 4\",\"up 9\",\"forward 1\",\"down 1\",\"forward 4\",\"up 4\",\"forward 4\",\"up 8\",\"forward 7\",\"down 3\",\"forward 1\",\"up 3\",\"up 1\",\"up 2\",\"down 3\",\"forward 5\",\"down 6\",\"down 1\",\"down 2\",\"forward 2\",\"down 3\",\"up 1\",\"forward 4\",\"down 2\",\"forward 8\",\"forward 3\",\"forward 7\",\"forward 7\",\"down 5\",\"down 7\",\"forward 8\",\"up 2\",\"down 6\",\"forward 1\",\"down 4\",\"forward 5\",\"forward 8\",\"forward 9\",\"forward 7\",\"down 1\",\"down 3\",\"down 1\",\"down 2\",\"forward 3\",\"up 3\",\"down 7\",\"forward 9\",\"forward 2\",\"up 8\",\"up 6\",\"up 3\",\"down 5\",\"forward 8\",\"down 8\",\"down 6\",\"forward 4\",\"down 2\",\"down 8\",\"forward 8\",\"up 7\",\"up 4\",\"up 5\",\"down 4\",\"up 6\",\"forward 2\",\"forward 9\",\"down 9\",\"forward 6\",\"down 5\",\"down 7\",\"forward 5\",\"up 5\",\"forward 2\",\"up 7\",\"up 3\",\"down 8\",\"forward 8\",\"forward 3\",\"down 2\",\"down 5\",\"forward 4\",\"down 8\",\"forward 5\",\"forward 4\",\"down 9\",\"forward 1\",\"down 4\",\"up 5\",\"forward 5\",\"down 1\",\"forward 4\",\"down 4\",\"forward 4\",\"down 8\",\"up 5\",\"up 4\",\"up 9\",\"forward 2\",\"forward 3\",\"down 3\",\"forward 2\",\"down 6\",\"down 6\",\"down 5\",\"forward 8\",\"forward 3\",\"up 1\",\"down 9\",\"down 4\",\"down 1\",\"up 4\",\"forward 2\",\"forward 3\",\"down 4\",\"up 4\",\"forward 5\",\"forward 2\",\"up 2\",\"forward 4\",\"down 2\",\"down 3\",\"down 6\",\"up 2\",\"forward 8\",\"forward 9\",\"forward 1\",\"down 1\",\"up 7\",\"up 4\",\"forward 2\",\"forward 4\",\"forward 2\",\"forward 8\",\"down 9\",\"down 5\",\"down 1\",\"down 1\",\"down 6\",\"forward 1\",\"up 6\",\"down 4\",\"down 9\",\"down 2\",\"down 2\",\"down 5\",\"up 6\",\"forward 4\",\"forward 1\",\"forward 2\",\"forward 8\",\"forward 2\",\"down 6\",\"forward 1\",\"down 8\",\"down 1\",\"forward 2\",\"forward 3\",\"down 9\",\"down 7\",\"down 5\",\"up 1\",\"forward 1\",\"down 5\",\"down 4\",\"forward 8\",\"down 9\",\"up 7\",\"forward 6\",\"forward 2\",\"forward 8\",\"down 9\",\"down 1\",\"up 5\",\"down 5\",\"down 3\",\"forward 6\",\"forward 5\",\"forward 2\",\"forward 6\",\"up 4\",\"forward 1\",\"down 9\",\"forward 5\",\"up 1\",\"down 5\",\"down 6\",\"forward 8\",\"down 4\",\"up 9\",\"down 6\",\"down 9\",\"down 7\",\"down 3\",\"forward 7\",\"down 5\",\"up 6\",\"forward 3\",\"up 4\",\"down 5\",\"up 5\",\"up 9\",\"forward 9\",\"forward 8\",\"down 9\",\"forward 9\",\"down 2\",\"forward 5\",\"forward 5\",\"forward 9\",\"down 3\",\"up 8\",\"down 7\",\"up 9\",\"forward 8\",\"forward 8\",\"down 1\",\"down 5\",\"down 4\",\"up 8\",\"forward 4\",\"forward 7\",\"down 2\",\"down 7\",\"down 6\",\"down 9\",\"down 7\",\"forward 5\",\"forward 7\",\"forward 5\",\"forward 2\",\"forward 7\",\"up 2\",\"down 8\",\"down 9\",\"down 5\",\"down 9\",\"forward 5\",\"forward 8\",\"forward 9\",\"up 5\",\"down 9\",\"down 7\",\"forward 4\",\"down 6\",\"up 5\",\"up 8\",\"down 3\",\"down 2\",\"up 7\",\"forward 9\",\"down 3\",\"down 2\",\"down 7\",\"down 4\",\"up 6\",\"up 4\",\"down 7\",\"down 4\",\"forward 5\",\"forward 6\",\"up 6\",\"down 7\",\"down 9\",\"down 9\",\"down 6\",\"forward 8\",\"forward 3\",\"forward 5\",\"up 1\",\"up 8\",\"forward 4\",\"forward 6\",\"down 5\",\"down 4\",\"forward 5\",\"forward 9\",\"down 4\",\"up 3\",\"up 8\",\"down 7\",\"up 8\",\"forward 5\",\"forward 3\",\"up 4\",\"up 9\",\"forward 6\",\"down 1\",\"up 6\",\"down 5\",\"down 4\",\"down 3\",\"down 8\",\"up 1\",\"down 1\",\"up 8\",\"up 8\",\"down 6\",\"forward 4\",\"forward 9\",\"down 4\",\"down 7\",\"forward 9\",\"forward 8\",\"up 6\",\"down 9\",\"up 3\",\"down 8\",\"forward 4\",\"forward 6\",\"forward 9\",\"up 7\",\"down 2\",\"forward 2\",\"forward 1\",\"forward 5\",\"up 9\",\"up 7\",\"up 5\",\"forward 4\",\"forward 5\",\"forward 4\",\"up 5\",\"forward 4\",\"up 6\",\"down 5\",\"up 2\",\"forward 5\",\"forward 5\",\"down 9\",\"forward 7\",\"down 9\",\"up 4\",\"up 9\",\"forward 6\",\"forward 7\",\"down 2\",\"forward 4\",\"down 9\",\"down 6\",\"forward 1\",\"forward 7\",\"up 3\",\"up 3\",\"down 6\",\"up 6\",\"up 2\",\"up 3\",\"forward 7\",\"up 4\",\"forward 1\",\"down 1\",\"forward 2\",\"forward 4\",\"down 1\",\"down 8\",\"forward 5\",\"forward 8\",\"up 7\",\"down 3\",\"forward 3\",\"forward 6\",\"down 8\",\"down 7\",\"up 9\",\"forward 3\",\"up 1\",\"down 8\",\"forward 4\",\"down 9\",\"forward 3\",\"forward 8\",\"down 4\",\"forward 4\",\"forward 1\",\"up 6\",\"down 1\",\"down 7\",\"forward 8\",\"down 9\",\"down 8\",\"down 7\",\"forward 5\",\"up 6\",\"forward 5\",\"up 1\",\"down 3\",\"down 7\",\"down 4\",\"forward 6\",\"down 4\",\"down 7\",\"up 9\",\"down 6\",\"down 7\",\"up 3\",\"up 8\",\"forward 3\",\"forward 1\",\"forward 5\",\"down 5\",\"forward 5\",\"down 1\",\"forward 9\",\"up 5\",\"forward 4\",\"down 1\",\"down 8\",\"up 1\",\"up 3\",\"up 8\",\"down 3\",\"down 5\",\"up 7\",\"forward 4\",\"down 7\",\"forward 9\",\"forward 7\",\"forward 9\",\"down 9\",\"forward 3\",\"forward 6\",\"up 3\",\"forward 4\",\"forward 4\"}"
   ]
  },
  {
   "cell_type": "code",
   "execution_count": 19,
   "metadata": {},
   "outputs": [],
   "source": [
    "location := map[string]int{\"hpos\": 0, \"depth\": 0}\n",
    "for i := 0; i < len(input); i++ {\n",
    "    command := strings.Fields(input[i])\n",
    "    cval, err := strconv.Atoi(command[1])\n",
    "    switch command[0] {\n",
    "    case \"forward\":\n",
    "        location[\"hpos\"] += cval\n",
    "    case \"down\":\n",
    "        location[\"depth\"] += cval\n",
    "    case \"up\":\n",
    "        location[\"depth\"] -= cval\n",
    "    default:\n",
    "        \n",
    "    }\n",
    "}\n",
    "fmt.Println(location[\"hpos\"]*location[\"depth\"])"
   ]
  },
  {
   "cell_type": "markdown",
   "metadata": {},
   "source": [
    "--- Part Two ---\n",
    "Based on your calculations, the planned course doesn't seem to make any sense. You find the submarine manual and discover that the process is actually slightly more complicated.\n",
    "\n",
    "In addition to horizontal position and depth, you'll also need to track a third value, aim, which also starts at 0. The commands also mean something entirely different than you first thought:\n",
    "\n",
    "down X increases your aim by X units.\n",
    "up X decreases your aim by X units.\n",
    "forward X does two things:\n",
    "It increases your horizontal position by X units.\n",
    "It increases your depth by your aim multiplied by X.\n",
    "Again note that since you're on a submarine, down and up do the opposite of what you might expect: \"down\" means aiming in the positive direction.\n",
    "\n",
    "Now, the above example does something different:\n",
    "\n",
    "forward 5 adds 5 to your horizontal position, a total of 5. Because your aim is 0, your depth does not change.\n",
    "down 5 adds 5 to your aim, resulting in a value of 5.\n",
    "forward 8 adds 8 to your horizontal position, a total of 13. Because your aim is 5, your depth increases by 8*5=40.\n",
    "up 3 decreases your aim by 3, resulting in a value of 2.\n",
    "down 8 adds 8 to your aim, resulting in a value of 10.\n",
    "forward 2 adds 2 to your horizontal position, a total of 15. Because your aim is 10, your depth increases by 2*10=20 to a total of 60.\n",
    "After following these new instructions, you would have a horizontal position of 15 and a depth of 60. (Multiplying these produces 900.)\n",
    "\n",
    "Using this new interpretation of the commands, calculate the horizontal position and depth you would have after following the planned course. What do you get if you multiply your final horizontal position by your final depth?"
   ]
  },
  {
   "cell_type": "code",
   "execution_count": null,
   "metadata": {},
   "outputs": [],
   "source": [
    "location := map[string]int{\"hpos\": 0, \"depth\": 0, \"aim\": 0}\n",
    "for i := 0; i < len(input); i++ {\n",
    "    command := strings.Fields(input[i])\n",
    "    cval, err := strconv.Atoi(command[1])\n",
    "    switch command[0] {\n",
    "    case \"forward\":\n",
    "        location[\"hpos\"] += cval\n",
    "        location[\"depth\"] += location[\"aim\"]*cval\n",
    "    case \"down\":\n",
    "        location[\"aim\"] += cval\n",
    "    case \"up\":\n",
    "        location[\"aim\"] -= cval\n",
    "    default:\n",
    "        \n",
    "    }\n",
    "}\n",
    "fmt.Println(location[\"hpos\"]*location[\"depth\"])"
   ]
  }
 ],
 "metadata": {
  "kernelspec": {
   "display_name": "Go",
   "language": "go",
   "name": "gophernotes"
  },
  "language_info": {
   "codemirror_mode": "",
   "file_extension": ".go",
   "mimetype": "",
   "name": "go",
   "nbconvert_exporter": "",
   "pygments_lexer": "",
   "version": "go1.11.4"
  }
 },
 "nbformat": 4,
 "nbformat_minor": 2
}
