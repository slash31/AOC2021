{
 "cells": [
  {
   "cell_type": "code",
   "execution_count": 1,
   "metadata": {},
   "outputs": [],
   "source": [
    "import (\n",
    "    \"fmt\"\n",
    "    \"strings\"\n",
    "    \"os\"\n",
    "    \"bufio\"\n",
    ")\n",
    "\n",
    "func loadData() (string, map[string]string) {\n",
    "    f, err := os.Open(\"input_data\")\n",
    "    input := bufio.NewReader(f)\n",
    "    scanner := bufio.NewScanner(input)\n",
    "    template := string(\"\")\n",
    "    rules := map[string]string{}\n",
    "    for scanner.Scan() {\n",
    "        if scanner.Text() == \"\" {\n",
    "            break\n",
    "        }\n",
    "        template = scanner.Text()\n",
    "    }\n",
    "    for scanner.Scan() {\n",
    "        entry :=  strings.Split(scanner.Text(),\" -> \")\n",
    "        rules[entry[0]] = entry[1]\n",
    "    }\n",
    "    return template, rules\n",
    "}\n"
   ]
  },
  {
   "cell_type": "code",
   "execution_count": 3,
   "metadata": {},
   "outputs": [
    {
     "name": "stdout",
     "output_type": "stream",
     "text": [
      "total length is 20890720927745\n",
      "max is 3678366520894 , min is 802701318456 (difference of max - min =) 2875665202438\n"
     ]
    },
    {
     "data": {
      "text/plain": [
       "85 <nil>"
      ]
     },
     "execution_count": 3,
     "metadata": {},
     "output_type": "execute_result"
    }
   ],
   "source": [
    "template, rules := loadData()\n",
    "elements := map[string]int{}\n",
    "for i,v := range strings.Split(template,\"\") {\n",
    "    elements[v] += 1\n",
    "}\n",
    "pairs := map[string]int{}\n",
    "for i := 0; i < len(template)-1; i++ {\n",
    "    pairs[template[i:i+2]] += 1\n",
    "}\n",
    "\n",
    "for i := 0; i < 40; i++ {\n",
    "    tPairs := map[string]int{}\n",
    "    for k,v := range pairs {\n",
    "        if k == \"\" {\n",
    "            break\n",
    "        }\n",
    "        insVal := rules[k]\n",
    "        elements[insVal] += v\n",
    "        tPairs[k[:1] + insVal] += v\n",
    "        tPairs[insVal + k[1:]] += v        \n",
    "    }\n",
    "    for k,v := range pairs {\n",
    "        delete(pairs,k)\n",
    "    }\n",
    "    for k,v := range tPairs {\n",
    "        pairs[k]=v\n",
    "    }\n",
    "}\n",
    "\n",
    "max := 0\n",
    "min := int(^uint(0)>>1)\n",
    "totalLen := 0\n",
    "\n",
    "for k,v := range(elements) {\n",
    "    if v > max {\n",
    "        max = v\n",
    "    }\n",
    "    if v < min {\n",
    "        min = v\n",
    "    }\n",
    "    totalLen += v\n",
    "}\n",
    "fmt.Println(\"total length is\",totalLen)\n",
    "fmt.Println(\"max is\",max,\", min is\",min, \"(difference of max - min =)\",max-min)\n"
   ]
  },
  {
   "cell_type": "code",
   "execution_count": null,
   "metadata": {},
   "outputs": [],
   "source": []
  }
 ],
 "metadata": {
  "kernelspec": {
   "display_name": "Go",
   "language": "go",
   "name": "gophernotes"
  },
  "language_info": {
   "codemirror_mode": "",
   "file_extension": ".go",
   "mimetype": "",
   "name": "go",
   "nbconvert_exporter": "",
   "pygments_lexer": "",
   "version": "go1.16.5"
  }
 },
 "nbformat": 4,
 "nbformat_minor": 2
}
