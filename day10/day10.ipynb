{
 "cells": [
  {
   "cell_type": "code",
   "execution_count": 16,
   "metadata": {},
   "outputs": [],
   "source": [
    "import (\n",
    "    \"fmt\"\n",
    "    \"os\"\n",
    "    \"bufio\"\n",
    "    \"strings\"\n",
    "    \"sort\"\n",
    ")\n",
    "\n",
    "func loadData() [][]string {\n",
    "    f, err := os.Open(\"input_data\")\n",
    "    data := []string{}\n",
    "    input := bufio.NewReader(f)\n",
    "    scanner := bufio.NewScanner(input)\n",
    "    allLines := [][]string{}\n",
    "    for scanner.Scan() {\n",
    "        lineChars := strings.Split(scanner.Text(),\"\")\n",
    "        allLines = append(allLines,lineChars)\n",
    "    }\n",
    "    return allLines\n",
    "}"
   ]
  },
  {
   "cell_type": "code",
   "execution_count": 45,
   "metadata": {},
   "outputs": [
    {
     "name": "stdout",
     "output_type": "stream",
     "text": [
      "318099\n"
     ]
    },
    {
     "data": {
      "text/plain": [
       "7 <nil>"
      ]
     },
     "execution_count": 45,
     "metadata": {},
     "output_type": "execute_result"
    }
   ],
   "source": [
    "// Part 1\n",
    "commands := loadData()\n",
    "errors := []string{}\n",
    "points := map[string]int{\")\":3,\"]\": 57,\"}\":1197,\">\":25137}\n",
    "inverse := map[string]string{\")\":\"(\", \"]\":\"[\", \"}\":\"{\", \">\":\"<\"}\n",
    "total := 0\n",
    "\n",
    "for i,line := range commands {\n",
    "    opens := []string{}\n",
    "    for j, s := range line {\n",
    "        if s == \"[\" || s == \"{\" || s == \"<\" || s == \"(\" {\n",
    "            opens = append(opens,s)\n",
    "        } else if s == \"]\" || s == \"}\" || s == \">\" || s == \")\" {\n",
    "            if inverse[s] != opens[len(opens)-1] {\n",
    "                errors = append(errors,s)\n",
    "                break\n",
    "            } else {\n",
    "                 opens = opens[:len(opens)-1]\n",
    "            }\n",
    "        }\n",
    "        \n",
    "    }\n",
    "}\n",
    "\n",
    "for i,e := range errors {\n",
    "    total += points[e]\n",
    "}\n",
    "fmt.Println(total)"
   ]
  },
  {
   "cell_type": "code",
   "execution_count": 17,
   "metadata": {},
   "outputs": [
    {
     "name": "stdout",
     "output_type": "stream",
     "text": [
      "2389738699\n"
     ]
    },
    {
     "data": {
      "text/plain": [
       "11 <nil>"
      ]
     },
     "execution_count": 17,
     "metadata": {},
     "output_type": "execute_result"
    }
   ],
   "source": [
    "// Part 2\n",
    "\n",
    "commands := loadData()\n",
    "errors := []int{}\n",
    "points := map[string]int{\")\":1,\"]\": 2,\"}\":3,\">\":4}\n",
    "lInverse := map[string]string{\")\":\"(\", \"]\":\"[\", \"}\":\"{\", \">\":\"<\"}\n",
    "rInverse := map[string]string{\"(\":\")\", \"[\":\"]\", \"{\":\"}\", \"<\":\">\"}\n",
    "scores := []int{}\n",
    "\n",
    "for i,line := range commands {\n",
    "    opens := []string{}\n",
    "    corrections := []string{}\n",
    "    cErr := false\n",
    "    subtotal := 0\n",
    "    for j, s := range line {\n",
    "        if s == \"[\" || s == \"{\" || s == \"<\" || s == \"(\" {\n",
    "            opens = append(opens,s)\n",
    "        } else if s == \"]\" || s == \"}\" || s == \">\" || s == \")\" {\n",
    "            if lInverse[s] != opens[len(opens)-1] {\n",
    "                errors = append(errors,i)\n",
    "                cErr = true\n",
    "                break\n",
    "            } else {\n",
    "                 opens = opens[:len(opens)-1]\n",
    "            }\n",
    "        }\n",
    "    }\n",
    "    if !cErr {\n",
    "        for i := len(opens)-1; i>=0; i-- {\n",
    "            corrections = append(corrections, rInverse[opens[i]])\n",
    "            subtotal = (subtotal*5) + points[rInverse[opens[i]]]\n",
    "        }\n",
    "        scores = append(scores,subtotal)\n",
    "    }\n",
    "}\n",
    "sort.Ints(scores)\n",
    "fmt.Println(scores[len(scores)/2])"
   ]
  }
 ],
 "metadata": {
  "kernelspec": {
   "display_name": "Go",
   "language": "go",
   "name": "gophernotes"
  },
  "language_info": {
   "codemirror_mode": "",
   "file_extension": ".go",
   "mimetype": "",
   "name": "go",
   "nbconvert_exporter": "",
   "pygments_lexer": "",
   "version": "go1.16.5"
  }
 },
 "nbformat": 4,
 "nbformat_minor": 2
}
