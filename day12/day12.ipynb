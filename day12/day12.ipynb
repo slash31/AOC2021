{
 "cells": [
  {
   "cell_type": "code",
   "execution_count": 2,
   "metadata": {},
   "outputs": [],
   "source": [
    "import (\n",
    "    \"fmt\"\n",
    "    \"os\"\n",
    "    \"bufio\"\n",
    "    \"strings\"\n",
    "    \"strconv\"\n",
    ")\n",
    "\n",
    "const numVertices int = 10\n",
    "\n",
    "type Adjacency struct {\n",
    "    a string\n",
    "    b string\n",
    "}\n",
    "\n",
    "\n",
    "func loadData() (map[string]int, []Adjacency) {\n",
    "    f, err := os.Open(\"input_data\")\n",
    "    input := bufio.NewReader(f)\n",
    "    scanner := bufio.NewScanner(input)\n",
    "    vertices := map[string]int{}\n",
    "    adjacencies := []Adjacency{}\n",
    "    for scanner.Scan() {\n",
    "        components := strings.Split(scanner.Text(),\"-\")\n",
    "        vertices[components[0]] = 0\n",
    "        vertices[components[1]] = 0\n",
    "        adjacencies = append(adjacencies, Adjacency{a:components[0],b:components[1]})\n",
    "        adjacencies = append(adjacencies, Adjacency{a:components[1],b:components[0]})\n",
    "    }\n",
    "    i := 0\n",
    "    return vertices, adjacencies\n",
    "}\n",
    "\n"
   ]
  },
  {
   "cell_type": "code",
   "execution_count": 7,
   "metadata": {},
   "outputs": [
    {
     "name": "stdout",
     "output_type": "stream",
     "text": [
      "4754\n"
     ]
    },
    {
     "data": {
      "text/plain": [
       "5 <nil>"
      ]
     },
     "execution_count": 7,
     "metadata": {},
     "output_type": "execute_result"
    }
   ],
   "source": [
    "func findPaths(vertices map[string]int, curr string, end string, adjList []Adjacency, currentPath []string) {\n",
    "    if int([]rune(curr)[0]) < 65 || int([]rune(curr)[0]) > 90 {\n",
    "        vertices[curr] += 1\n",
    "    }\n",
    "    currentPath = append(currentPath,curr)\n",
    "       \n",
    "    if curr == end {\n",
    "        AllPaths = append(AllPaths,currentPath)\n",
    "    } else {  \n",
    "        for i,v := range adjList {\n",
    "            if v.a == curr && vertices[v.b] < 1 {\n",
    "                findPaths(vertices, v.b, end, adjList, currentPath)\n",
    "            }\n",
    "        }\n",
    "    }\n",
    "    currentPath = currentPath[:len(currentPath)-1]\n",
    "    vertices[curr] = 0\n",
    "}\n",
    "\n",
    "var AllPaths = [][]string{}\n",
    "vertices, adjacencies := loadData()\n",
    "for k,v := range vertices {\n",
    "        vertices[k] = 0\n",
    "    } \n",
    "    paths := []string{}\n",
    "\n",
    "findPaths(vertices, \"start\", \"end\", adjacencies, []string{})\n",
    "fmt.Println(len(AllPaths))\n"
   ]
  },
  {
   "cell_type": "code",
   "execution_count": 3,
   "metadata": {},
   "outputs": [
    {
     "name": "stdout",
     "output_type": "stream",
     "text": [
      "1392\n"
     ]
    },
    {
     "data": {
      "text/plain": [
       "5 <nil>"
      ]
     },
     "execution_count": 3,
     "metadata": {},
     "output_type": "execute_result"
    }
   ],
   "source": [
    "func findPaths(vertices map[string]int, curr string, end string, adjList []Adjacency, currentPath []string, revisited bool) {\n",
    "    if int([]rune(curr)[0]) < 65 || int([]rune(curr)[0]) > 90 {\n",
    "        vertices[curr] += 1\n",
    "    } else {\n",
    "        if !revisited {\n",
    "            revisited = true\n",
    "        } else {\n",
    "            vertices[curr] += 1\n",
    "        }\n",
    "    }\n",
    "    currentPath = append(currentPath,curr)\n",
    "       \n",
    "    if curr == end {\n",
    "        AllPaths = append(AllPaths,currentPath)\n",
    "    } else {  \n",
    "        for i,v := range adjList {\n",
    "            if v.a == curr && vertices[v.b] < 1 {\n",
    "                findPaths(vertices, v.b, end, adjList, currentPath, revisited)\n",
    "            }\n",
    "        }\n",
    "    }\n",
    "    currentPath = currentPath[:len(currentPath)-1]\n",
    "    vertices[curr] = 0\n",
    "}\n",
    "\n",
    "var AllPaths = [][]string{}\n",
    "vertices, adjacencies := loadData()\n",
    "for k,v := range vertices {\n",
    "        vertices[k] = 0\n",
    "    } \n",
    "    paths := []string{}\n",
    "\n",
    "findPaths(vertices, \"start\", \"end\", adjacencies, []string{}, false)\n",
    "fmt.Println(len(AllPaths))"
   ]
  },
  {
   "cell_type": "code",
   "execution_count": null,
   "metadata": {},
   "outputs": [],
   "source": []
  }
 ],
 "metadata": {
  "kernelspec": {
   "display_name": "Go",
   "language": "go",
   "name": "gophernotes"
  },
  "language_info": {
   "codemirror_mode": "",
   "file_extension": ".go",
   "mimetype": "",
   "name": "go",
   "nbconvert_exporter": "",
   "pygments_lexer": "",
   "version": "go1.16.5"
  }
 },
 "nbformat": 4,
 "nbformat_minor": 2
}
