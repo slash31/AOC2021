{
 "cells": [
  {
   "cell_type": "code",
   "execution_count": 1,
   "metadata": {},
   "outputs": [],
   "source": [
    "with open('input_data', 'r') as infile:\n",
    "    data = infile.read()\n",
    "input = [int(i) for i in data.split()]"
   ]
  },
  {
   "cell_type": "code",
   "execution_count": 2,
   "metadata": {},
   "outputs": [
    {
     "name": "stdout",
     "output_type": "stream",
     "text": [
      "1502\n"
     ]
    }
   ],
   "source": [
    "# Part 1\n",
    "incremented = 0\n",
    "for i in range(1,len(input)-1):\n",
    "    # compare each measurement to previous, incrementing if depth increases \n",
    "    if input[i] > input[i-1]:\n",
    "        incremented += 1  \n",
    "print(incremented)"
   ]
  },
  {
   "cell_type": "code",
   "execution_count": 3,
   "metadata": {},
   "outputs": [
    {
     "name": "stdout",
     "output_type": "stream",
     "text": [
      "1538\n"
     ]
    }
   ],
   "source": [
    "# Part 2\n",
    "incremented = 0\n",
    "# limit range so that every comparison is two groups of three\n",
    "for i in range (0, len(input)-3):\n",
    "    # compare the sums of each window of three, incrementing if depth increases \n",
    "    a_idx = i\n",
    "    b_idx = i+1\n",
    "    if sum(input[b_idx:b_idx+3]) > sum(input[a_idx:a_idx+3]):\n",
    "           incremented += 1\n",
    "print(incremented)"
   ]
  }
 ],
 "metadata": {
  "kernelspec": {
   "display_name": "Python 3",
   "language": "python",
   "name": "python3"
  },
  "language_info": {
   "codemirror_mode": {
    "name": "ipython",
    "version": 3
   },
   "file_extension": ".py",
   "mimetype": "text/x-python",
   "name": "python",
   "nbconvert_exporter": "python",
   "pygments_lexer": "ipython3",
   "version": "3.6.5"
  }
 },
 "nbformat": 4,
 "nbformat_minor": 2
}
