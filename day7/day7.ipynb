{
 "cells": [
  {
   "cell_type": "code",
   "execution_count": 1,
   "metadata": {},
   "outputs": [],
   "source": [
    "import (\n",
    "    \"fmt\"\n",
    "    \"sort\"\n",
    "    \"math\"\n",
    "    \"io/ioutil\"\n",
    "    \"strings\"\n",
    "    \"strconv\"\n",
    ")\n",
    "\n",
    "func loadData() []int {\n",
    "    f, err := ioutil.ReadFile(\"input_data\")\n",
    "    rawData := strings.Split(string(f),\",\")\n",
    "    input := []int{}\n",
    "    for i,sVal := range rawData {\n",
    "        iVal, err := strconv.Atoi(strings.TrimSuffix(sVal,\"\\n\"))\n",
    "        input = append(input,iVal)\n",
    "    }\n",
    "    return input\n",
    "}\n",
    "\n",
    "crabs := loadData()"
   ]
  },
  {
   "cell_type": "code",
   "execution_count": 2,
   "metadata": {},
   "outputs": [
    {
     "name": "stdout",
     "output_type": "stream",
     "text": [
      "348664\n"
     ]
    },
    {
     "data": {
      "text/plain": [
       "7 <nil>"
      ]
     },
     "execution_count": 2,
     "metadata": {},
     "output_type": "execute_result"
    }
   ],
   "source": [
    "// Part 1\n",
    "sort.Ints(crabs)\n",
    "val:=crabs[len(crabs)/2]\n",
    "totalDiff := 0\n",
    "for i,v := range crabs {\n",
    "    totalDiff += int(math.Abs(float64(val-v)))\n",
    "}\n",
    "fmt.Println(totalDiff)"
   ]
  },
  {
   "cell_type": "code",
   "execution_count": 3,
   "metadata": {},
   "outputs": [
    {
     "name": "stdout",
     "output_type": "stream",
     "text": [
      "100220525\n"
     ]
    },
    {
     "data": {
      "text/plain": [
       "10 <nil>"
      ]
     },
     "execution_count": 3,
     "metadata": {},
     "output_type": "execute_result"
    }
   ],
   "source": [
    "// Part 2\n",
    "func getOptimalCenter(crabs []int,lpos,rpos,cost int) int {\n",
    "    if rpos-lpos <= 1 {\n",
    "        return cost\n",
    "    }\n",
    "    lCost,rCost := 0,0\n",
    "    pivot := (lpos+rpos)/2\n",
    "    lVal := crabs[(lpos+pivot)/2]\n",
    "    rVal := crabs[(pivot+rpos)/2]\n",
    "    for i,v := range crabs {\n",
    "        lDelta := int(math.Abs(float64(lVal-v)))\n",
    "        rDelta := int(math.Abs(float64(rVal-v)))\n",
    "        for j := 1; j <= lDelta; j++ {\n",
    "            lCost += j\n",
    "        }\n",
    "        for j := 1; j <= rDelta; j++ {\n",
    "            rCost += j\n",
    "        }\n",
    "    }\n",
    "    if lCost < rCost {\n",
    "        return getOptimalCenter(crabs,lpos,pivot,lCost)\n",
    "    } else {\n",
    "        return getOptimalCenter(crabs,pivot,rpos,rCost)\n",
    "    } \n",
    "}\n",
    "\n",
    "sort.Ints(crabs)\n",
    "fmt.Println(getOptimalCenter(crabs,0,len(crabs)-1,0))"
   ]
  },
  {
   "cell_type": "code",
   "execution_count": null,
   "metadata": {},
   "outputs": [],
   "source": []
  }
 ],
 "metadata": {
  "kernelspec": {
   "display_name": "Go",
   "language": "go",
   "name": "gophernotes"
  },
  "language_info": {
   "codemirror_mode": "",
   "file_extension": ".go",
   "mimetype": "",
   "name": "go",
   "nbconvert_exporter": "",
   "pygments_lexer": "",
   "version": "go1.11.4"
  }
 },
 "nbformat": 4,
 "nbformat_minor": 2
}
