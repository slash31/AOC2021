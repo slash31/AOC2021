{
 "cells": [
  {
   "cell_type": "code",
   "execution_count": 1,
   "metadata": {},
   "outputs": [
    {
     "name": "stdout",
     "output_type": "stream",
     "text": [
      "Max height of 5995 reached with velocity pair 19 109\n",
      "Number of unique velocity pairs that hit the target: 3202\n"
     ]
    },
    {
     "data": {
      "text/plain": [
       "58 <nil>"
      ]
     },
     "execution_count": 1,
     "metadata": {},
     "output_type": "execute_result"
    }
   ],
   "source": [
    "import (\n",
    "    \"fmt\"\n",
    "    \"io/ioutil\"\n",
    "    \"strings\"\n",
    "    \"strconv\"\n",
    ")\n",
    "\n",
    "type Target struct {\n",
    "    left int\n",
    "    right int\n",
    "    top int\n",
    "    bottom int\n",
    "}\n",
    "\n",
    "type Point struct {\n",
    "    x int\n",
    "    y int\n",
    "}\n",
    "\n",
    "func loadData(file string) Target{\n",
    "    target := Target{}\n",
    "    f, err := ioutil.ReadFile(file)\n",
    "    rawData := strings.Trim(string(f),\"\\n\")\n",
    "    rawData := strings.Replace(strings.Replace(rawData,\"target area: \",\"\",-1),\"..\",\",\",-1)\n",
    "    rawData = strings.Replace(strings.Replace(rawData, \"x=\",\"\",-1), \" y=\",\"\",-1)\n",
    "    tCoords := strings.Split(rawData,\",\")\n",
    "    target.left, _ = strconv.Atoi(tCoords[0])\n",
    "    target.right, _ = strconv.Atoi(tCoords[1])\n",
    "    target.bottom, _ = strconv.Atoi(tCoords[2])\n",
    "    target.top, _ = strconv.Atoi(tCoords[3])\n",
    "    return target\n",
    "}\n",
    "\n",
    "func hitTarget(xPos,yPos int, target Target) bool {\n",
    "    if xPos >= target.left && xPos <= target.right && yPos >= target.bottom && yPos <= target.top {\n",
    "        //fmt.Println(\"hit!!!\")\n",
    "        return true\n",
    "    }\n",
    "    return false\n",
    "}\n",
    "\n",
    "func launchProbe(xv, yv int, target Target) (int,int,int,bool) {\n",
    "    xPos := 0\n",
    "    yPos := 0\n",
    "    maxY := 0\n",
    "    for true {\n",
    "        xPos += xv\n",
    "        yPos += yv\n",
    "        if xPos > target.right || yPos < target.bottom {\n",
    "            return xPos,yPos,maxY,false\n",
    "        }\n",
    "        if yPos >= maxY {\n",
    "            maxY = yPos\n",
    "        }\n",
    "        if hitTarget(xPos,yPos, target) {\n",
    "            return xPos,yPos,maxY,true\n",
    "        }\n",
    "        if xv > 0 {\n",
    "            xv--\n",
    "        }\n",
    "        if xv < 0 {\n",
    "            xv++\n",
    "        }\n",
    "        yv--   \n",
    "    }\n",
    "    return xPos,yPos,maxY,false\n",
    "}\n",
    "\n",
    "target := loadData(\"input_data\")\n",
    "hits := make(map[Point]bool)\n",
    "\n",
    "xvMax,yvMax,maxHeight := 0,0,0\n",
    "i,j := 1,1\n",
    "\n",
    "for i := 0; i < 500; i++ {\n",
    "    for j := -500; j < 500; j++ {\n",
    "        xPos,yPos,maxY,hit := launchProbe(i,j,target)\n",
    "        if hit {\n",
    "            hits[Point{i,j}] = true\n",
    "            if maxY >= maxHeight {\n",
    "                maxHeight = maxY\n",
    "                xvMax = i\n",
    "                yvMax = j\n",
    "            }\n",
    "        }\n",
    "    }\n",
    "}\n",
    "fmt.Println(\"Max height of\",maxHeight,\"reached with velocity pair\",xvMax,yvMax)\n",
    "fmt.Println(\"Number of unique velocity pairs that hit the target:\",len(hits))"
   ]
  },
  {
   "cell_type": "code",
   "execution_count": null,
   "metadata": {},
   "outputs": [],
   "source": []
  }
 ],
 "metadata": {
  "kernelspec": {
   "display_name": "Go",
   "language": "go",
   "name": "gophernotes"
  },
  "language_info": {
   "codemirror_mode": "",
   "file_extension": ".go",
   "mimetype": "",
   "name": "go",
   "nbconvert_exporter": "",
   "pygments_lexer": "",
   "version": "go1.16.5"
  }
 },
 "nbformat": 4,
 "nbformat_minor": 2
}
